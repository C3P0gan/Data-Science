





import pandas as pd


notas = pd.read_csv('data/ratings.csv')
notas.head()


notas.shape


notas.columns


notas.columns = ['usuarioId', 'filmeId', 'nota', 'momento']


notas.columns


notas['nota'].unique()


notas['nota'].value_counts()


notas['nota'].mean()


notas['nota'].plot(kind='hist')


mediana = notas['nota'].median()
media = notas['nota'].mean()

print('A mediana é:', mediana)
print('A média é:', media)


import seaborn as sns


sns.boxplot(notas['nota'])





filmes = pd.read_csv('data/movies.csv')
filmes.columns = ['filmeId', 'titulo', 'generos']
filmes.head()


notas.head()


notas.query("filmeId == 1")['nota'].mean()


notas.query("filmeId == 2")['nota'].mean()


medias_por_filme = notas.groupby(by='filmeId')['nota'].mean()
medias_por_filme.head()


medias_por_filme.plot(kind='hist')





sns.boxplot(medias_por_filme)


medias_por_filme.describe()





get_ipython().getoutput("pip install matplotlib")
import matplotlib.pyplot as plt


sns.displot(medias_por_filme, kde=True)
plt.title('Histograma das médias dos filmes')








tmdb = pd.read_csv('data/tmdb_5000_movies.csv')
tmdb.head()


sns.displot(tmdb['revenue'])
plt.title(label='Distribuição da receita dos filmes')
plt.show()


sns.displot(tmdb['budget'])
plt.title(label='Distribuição do orçamento dos filmes')
plt.show()


tmdb.info()


tmdb.describe()


com_faturamento = tmdb.query('revenue > 0')
sns.displot(com_faturamento['revenue'])
plt.title(label='Distribuição da receita dos filmes')
plt.show()


tmdb['original_language'].unique()


tmdb['original_language'].mode()


tmdb['original_language'].value_counts()


mais_de_10_votos = tmdb.query('vote_count > 10')
sns.displot(mais_de_10_votos['vote_average'], kde=True)
plt.title(label='Distribuição das médias das notas dos filmes\ncom mais de 10 votos')
plt.show()











tmdb['original_language'].value_counts().index


tmdb['original_language'].value_counts().values


contagem_de_lingua = tmdb['original_language'].value_counts().to_frame().reset_index()
contagem_de_lingua.columns = ['original_language', 'total']
contagem_de_lingua.head()


plt.figure(figsize=(12, 8))
sns.barplot(data=contagem_de_lingua, x='original_language', y='total')
plt.show()


plt.figure(figsize=(12, 8))
sns.countplot(data=tmdb, x='original_language')
plt.show()


# show de horror que é o gráfico de pizza
contagem_de_lingua.plot(kind='pie',
                        y='total',
                        labels=contagem_de_lingua['original_language'])


total_por_lingua = tmdb['original_language'].value_counts()
total_geral = total_por_lingua.sum()
total_de_ingles = total_por_lingua.loc['en']
total_do_resto = total_geral - total_de_ingles
print(total_geral, total_de_ingles, total_do_resto)


dados = dict(lingua=['ingles', 'outros'],
             total=[total_de_ingles, total_do_resto])
dados = pd.DataFrame(dados)
dados


sns.barplot(data=dados, x='lingua', y='total')


dados.plot(kind='pie', labels=dados['lingua'], y='total')


total_de_outros_filmes_por_lingua = tmdb.query("original_language != 'en'")['original_language'].value_counts()
total_de_outros_filmes_por_lingua.head()


plt.figure(figsize=(16, 12))
sns.countplot(data=tmdb.query("original_language != 'en'"),
              x='original_language')
plt.show()

















sns.color_palette('rocket', as_cmap=True)


plt.figure(figsize=(16, 12))
sns.countplot(data=tmdb.query("original_language != 'en'"),
              order=total_de_outros_filmes_por_lingua.index,
              x='original_language',
              hue='original_language',
              hue_order=total_de_outros_filmes_por_lingua.index,
              palette='rocket',
              stat='percent')
plt.title(label='Distribuição da língua original nos filmes exceto em Inglês')
plt.show()

















notas_do_toystory = notas.query('filmeId == 1')['nota']
notas_do_jumanji = notas.query('filmeId == 2')['nota']

media_do_toystory = notas_do_toystory.mean()
media_do_jumanji = notas_do_jumanji.mean()

print(media_do_toystory, media_do_jumanji)


mediana_do_toystory = notas_do_toystory.median()
mediana_do_jumanji = notas_do_jumanji.median()

print(mediana_do_toystory, mediana_do_jumanji)


import numpy as np


filme1 = [2.5] * 10 + [3.5] * 10
media_filme1 = np.mean(filme1)
mediana_filme1 = np.median(filme1)

filme2 = [5] * 10 + [1] * 10
media_filme2 = np.mean(filme2)
mediana_filme2 = np.median(filme2)

print('Filme 1:')
print(f'Média: {media_filme1}')
print(f'Mediana: {mediana_filme1}')

print('\nFilme 2:')
print(f'Média: {media_filme2}')
print(f'Mediana: {mediana_filme2}')


plt.hist(x=filme1)
plt.hist(x=filme2)


plt.boxplot(x=[filme1, filme2])


filme0 = [3.0] * 20
np.mean(filme0),  np.std(filme0)


np.std(filme1),  np.std(filme2)





plt.boxplot(x=[notas_do_toystory, notas_do_jumanji])


sns.boxplot(data=notas.query('filmeId < 6'),
            hue='filmeId',
            y='nota',
            palette='Set2')


notas.groupby(by='filmeId').count()


notas['filmeId'].value_counts().tail()


notas.groupby(by='filmeId').count().query('nota == 1')






